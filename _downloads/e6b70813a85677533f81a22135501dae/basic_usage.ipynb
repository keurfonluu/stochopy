{
  "cells": [
    {
      "cell_type": "code",
      "execution_count": null,
      "metadata": {
        "collapsed": false
      },
      "outputs": [],
      "source": [
        "%matplotlib inline"
      ]
    },
    {
      "cell_type": "markdown",
      "metadata": {},
      "source": [
        "\n# Minimize a function\n\nThis examples shows a basic usage of :func:`stochopy.optimize.minimize`.\n"
      ]
    },
    {
      "cell_type": "markdown",
      "metadata": {},
      "source": [
        "Let's import an objective function to optimize. :mod:`stochopy.factory` has several sample benchmark functions to test.\nWe also have to define the feasible space (or boundaries) for each variable to optimize. The length of the boundary array is used internally to define the dimensionality of the problem. In this example, we will optimize 20 variables within [-5.12, 5.12].\n\n"
      ]
    },
    {
      "cell_type": "code",
      "execution_count": null,
      "metadata": {
        "collapsed": false
      },
      "outputs": [],
      "source": [
        "import numpy as np\nfrom stochopy.factory import rosenbrock\n\nupper = np.full(20, 5.12)\nbounds = np.column_stack((-upper, upper))"
      ]
    },
    {
      "cell_type": "markdown",
      "metadata": {},
      "source": [
        "The main optimization function :func:`stochopy.optimize.minimize` has an API inspired by :mod:`scipy`.\nIn this example, we will use CMA-ES to minimize the Rosenbrock function \n\n"
      ]
    },
    {
      "cell_type": "code",
      "execution_count": null,
      "metadata": {
        "collapsed": false
      },
      "outputs": [],
      "source": [
        "from stochopy.optimize import minimize\n\nx = minimize(rosenbrock, bounds, method=\"cmaes\", options={\"maxiter\": 2000, \"popsize\": 20, \"seed\": 42})"
      ]
    },
    {
      "cell_type": "markdown",
      "metadata": {},
      "source": [
        ":func:`stochopy.optimize.minimize` returns a :class:`stochopy.optimize.OptimizeResult` dictionary-like that contains the optimization result.\n\n"
      ]
    },
    {
      "cell_type": "code",
      "execution_count": null,
      "metadata": {
        "collapsed": false
      },
      "outputs": [],
      "source": [
        "print(x)"
      ]
    }
  ],
  "metadata": {
    "kernelspec": {
      "display_name": "Python 3",
      "language": "python",
      "name": "python3"
    },
    "language_info": {
      "codemirror_mode": {
        "name": "ipython",
        "version": 3
      },
      "file_extension": ".py",
      "mimetype": "text/x-python",
      "name": "python",
      "nbconvert_exporter": "python",
      "pygments_lexer": "ipython3",
      "version": "3.9.16"
    }
  },
  "nbformat": 4,
  "nbformat_minor": 0
}